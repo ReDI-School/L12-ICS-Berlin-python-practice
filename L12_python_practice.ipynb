{
  "nbformat": 4,
  "nbformat_minor": 0,
  "metadata": {
    "colab": {
      "provenance": [],
      "collapsed_sections": [],
      "authorship_tag": "ABX9TyPnYEgdYQKUnkEbtRf+v+JO",
      "include_colab_link": true
    },
    "kernelspec": {
      "name": "python3",
      "display_name": "Python 3"
    },
    "language_info": {
      "name": "python"
    }
  },
  "cells": [
    {
      "cell_type": "markdown",
      "metadata": {
        "id": "view-in-github",
        "colab_type": "text"
      },
      "source": [
        "<a href=\"https://colab.research.google.com/github/eelanagaraj/L12-ICS-Berlin-python-practice/blob/main/L12_python_practice.ipynb\" target=\"_parent\"><img src=\"https://colab.research.google.com/assets/colab-badge.svg\" alt=\"Open In Colab\"/></a>"
      ]
    },
    {
      "cell_type": "markdown",
      "source": [
        "# Python Practice Session (Functions, Conditionals, Loops)\n",
        "\n"
      ],
      "metadata": {
        "id": "dnqxwZHZoecA"
      }
    },
    {
      "cell_type": "markdown",
      "source": [
        "## Part 1: Rock, Paper, Scissors\n",
        "\n",
        "In this section, make the changes specified in the TODOs to get a rock, paper, scissors game working. You should not need to change anything that does not have a TODO!"
      ],
      "metadata": {
        "id": "83ksmSWzoou9"
      }
    },
    {
      "cell_type": "code",
      "execution_count": null,
      "metadata": {
        "id": "M5r_oVJfocJl"
      },
      "outputs": [],
      "source": [
        "import random\n",
        "\n",
        "# Define constants so we don't accidentally misspell these in our logic\n",
        "ROCK = 'rock'\n",
        "PAPER = 'paper'\n",
        "SCISSORS = 'scissors'\n",
        "POSSIBLE_MOVES = [ROCK, PAPER, SCISSORS]\n",
        "\n",
        "\n",
        "def player1_wins(player1_move, player2_move):\n",
        "    \"\"\"\n",
        "    Returns True if player1_move beats player2_move, or False if not.\n",
        "    Note that this returns False in case of a tie!\n",
        "    \"\"\"\n",
        "    if player1_move == ROCK and player2_move == SCISSORS:\n",
        "        return True\n",
        "\n",
        "    # TODO: finish the rest of this conditional logic\n",
        "\n",
        "    else:\n",
        "        return False \n",
        "\n",
        "\n",
        "def is_valid_move(move):\n",
        "    \"\"\"\n",
        "    Returns True if the move is considered valid input, or False if not.\n",
        "    \"\"\"\n",
        "    # TODO: implement this function body\n",
        "\n",
        "\n",
        "def play_rock_paper_scissors():\n",
        "    # This randomly selects one of the options in POSSIBLE_MOVES\n",
        "    computer_move = random.choice(POSSIBLE_MOVES)\n",
        "\n",
        "    have_valid_move = False\n",
        "    while not have_valid_move:\n",
        "        print(f\"choose from: {POSSIBLE_MOVES}\")\n",
        "        user_move = input('enter your move: ')\n",
        "        if is_valid_move(user_move):\n",
        "            pass  # TODO: replace `pass` with the necessary logic\n",
        "        else:\n",
        "            print('invalid input, try again')\n",
        "\n",
        "    print(f\"computer's move: {computer_move}\")\n",
        "    if ...:  # TODO: replace `...` with the correct condition\n",
        "        print(\"it's a tie!\")\n",
        "    elif player1_wins(user_move, computer_move):\n",
        "        print('you win! 🏆🏆🏆')\n",
        "    else:\n",
        "        print('computer wins! 😭😭😭')\n",
        "\n",
        "play_rock_paper_scissors()"
      ]
    },
    {
      "cell_type": "markdown",
      "source": [
        "## Part 2: Tasks: Functions, Conditionals, Loops Practice\n",
        "\n",
        "Implement and call a function to solve each of the tasks [listed in this doc](https://docs.google.com/document/d/1YHHgt3KYYb1SJ_Zf9NGOIpveq7Sajah69_I2GFmrShc/edit?usp=sharing).\n",
        "\n",
        "We recommend using a separate code cell for each task."
      ],
      "metadata": {
        "id": "rXtr-r7Kooii"
      }
    },
    {
      "cell_type": "code",
      "source": [
        "# TODO task 1"
      ],
      "metadata": {
        "id": "YenivqNOon1i"
      },
      "execution_count": null,
      "outputs": []
    },
    {
      "cell_type": "code",
      "source": [
        "# TODO task 2"
      ],
      "metadata": {
        "id": "sXmmFg2DpytG"
      },
      "execution_count": null,
      "outputs": []
    },
    {
      "cell_type": "code",
      "source": [
        "# ..."
      ],
      "metadata": {
        "id": "wMg4MxcZpz8V"
      },
      "execution_count": null,
      "outputs": []
    }
  ]
}