{
 "cells": [
  {
   "cell_type": "markdown",
   "metadata": {},
   "source": [
    "TASKS"
   ]
  },
  {
   "cell_type": "markdown",
   "metadata": {},
   "source": [
    "1. Warm-up: write a function called add_10 that takes in an integer, adds 10, and returns this value."
   ]
  },
  {
   "cell_type": "code",
   "execution_count": 4,
   "metadata": {},
   "outputs": [
    {
     "name": "stdout",
     "output_type": "stream",
     "text": [
      "50\n",
      "20\n"
     ]
    }
   ],
   "source": [
    "def add_10(integer):\n",
    "    add_10 = integer + 10\n",
    "    return add_10\n",
    "print(add_10(40))\n",
    "print(add_10(10))"
   ]
  },
  {
   "cell_type": "markdown",
   "metadata": {},
   "source": [
    "2. Write a function called longer_string that takes in two strings and returns the longer one. If they are the same length, return the first string.\n"
   ]
  },
  {
   "cell_type": "code",
   "execution_count": 7,
   "metadata": {},
   "outputs": [
    {
     "name": "stdout",
     "output_type": "stream",
     "text": [
      "jbjn\n",
      "jbjn\n",
      "asddf\n"
     ]
    }
   ],
   "source": [
    "def longer_string(string1, string2):\n",
    "    if len(string1) >= len(string2):\n",
    "        return string1\n",
    "    else:\n",
    "        return string2\n",
    "    \n",
    "print(longer_string('jbjn', 'asd'))\n",
    "print(longer_string('jbjn', 'asdf'))\n",
    "print(longer_string('jbjn', 'asddf'))\n",
    "    "
   ]
  },
  {
   "cell_type": "markdown",
   "metadata": {},
   "source": [
    "3. Write a function called is_odd that takes in an integer and returns True if the number is odd and False otherwise. Hint: Google what the modulo (%) operator in Python is and use it to determine if a number is odd or even.\n"
   ]
  },
  {
   "cell_type": "code",
   "execution_count": 2,
   "metadata": {},
   "outputs": [
    {
     "name": "stdout",
     "output_type": "stream",
     "text": [
      "False\n",
      "True\n"
     ]
    }
   ],
   "source": [
    "def is_odd(integer):\n",
    "    if integer % 2 == 0:\n",
    "        return False\n",
    "    else:\n",
    "        return True\n",
    "print(is_odd(100))\n",
    "print(is_odd(101))"
   ]
  },
  {
   "cell_type": "markdown",
   "metadata": {},
   "source": [
    "4. Write a function that takes in a list of integers, a min_val, and a max_val and prints the value of each element that is between min_val and max_val.\n",
    "For example: [3, 0, 10, 4, 5, 3], min_val = 2, max_val = 5; expected output:\n",
    "3\n",
    "4\n",
    "3"
   ]
  },
  {
   "cell_type": "code",
   "execution_count": 6,
   "metadata": {},
   "outputs": [
    {
     "name": "stdout",
     "output_type": "stream",
     "text": [
      "3\n",
      "4\n",
      "3\n"
     ]
    }
   ],
   "source": [
    "min_val = 0\n",
    "max_val = 0\n",
    "def check_in_between(list_of_integers, min_val, max_val):\n",
    "    for int in list_of_integers:\n",
    "        if int > min_val and int < max_val:\n",
    "            print(int)\n",
    "        \n",
    "check_in_between([3, 0, 10, 4, 5, 3], 2,5)"
   ]
  },
  {
   "cell_type": "markdown",
   "metadata": {},
   "source": [
    "5. Write a function find_max_int that takes in a list of integers and returns the largest value in the list. Do not use the `max` function in your solution :) If the empty list ([]) is passed in, return None. (Note: `None` is a keyword in Python)\n",
    "For example: the input [3, 0, 10, 4, 5, 3] should return 10.\n"
   ]
  },
  {
   "cell_type": "code",
   "execution_count": 14,
   "metadata": {},
   "outputs": [
    {
     "name": "stdout",
     "output_type": "stream",
     "text": [
      "0\n",
      "10\n",
      "None\n"
     ]
    }
   ],
   "source": [
    "import math\n",
    "\n",
    "def find_max_int(List_of_integers):\n",
    "    if List_of_integers == []: \n",
    "        return None\n",
    "    #max_integer = 0\n",
    "    max_integer = - math.inf #this is minus(by putting minus in front) infiniti. We imported this from math library.\n",
    "    for integer in List_of_integers:\n",
    "        if integer > max_integer:\n",
    "            max_integer = integer\n",
    "    return max_integer\n",
    "\n",
    "print(find_max_int([-3, 0, -10, -4, -5]))\n",
    "print(find_max_int([3, 0, 10, 4, 5, 3]))\n",
    "print(find_max_int([]))          \n",
    "        "
   ]
  },
  {
   "cell_type": "markdown",
   "metadata": {},
   "source": [
    "6. Similar to the above, write a function called find_longest_str that takes in a list of strings and returns the longest string in the list. If the empty list ([]) is passed in, return None.\n",
    "For example: ['a', 'asdf', ''] -> 'asdf'\n"
   ]
  },
  {
   "cell_type": "code",
   "execution_count": 37,
   "metadata": {},
   "outputs": [
    {
     "name": "stdout",
     "output_type": "stream",
     "text": [
      "asdf\n",
      "None\n"
     ]
    }
   ],
   "source": [
    "def find_max_string (List_of_strings):\n",
    "    if List_of_strings == []: \n",
    "        return None\n",
    "    max_string = ''\n",
    "    for string in List_of_strings:\n",
    "        if len(string) > len(max_string):\n",
    "            max_string = string\n",
    "    return max_string\n",
    "print(find_max_string(['a', 'asdf', '']))\n",
    "print(find_max_int([]))          "
   ]
  },
  {
   "cell_type": "markdown",
   "metadata": {},
   "source": [
    "7. Write a function that takes in an integer and prints all positive numbers below it that are divisible by 3.\n",
    "For example: with input 12, we should get output:\n",
    "3\n",
    "6\n",
    "9\n"
   ]
  },
  {
   "cell_type": "code",
   "execution_count": 2,
   "metadata": {},
   "outputs": [
    {
     "name": "stdout",
     "output_type": "stream",
     "text": [
      "3\n",
      "6\n",
      "9\n"
     ]
    }
   ],
   "source": [
    "def div_by_3_below(integer):\n",
    "    for integer in range(1, integer):\n",
    "        if integer % 3 == 0:\n",
    "            print(integer)\n",
    "            \n",
    "div_by_3_below(12)"
   ]
  },
  {
   "cell_type": "markdown",
   "metadata": {},
   "source": [
    "8. Building on the previous task, copy & modify the function to return the total amount of numbers that are divisible by 3, in addition to printing each number.\n",
    "For example: with input 12, it should print:\n",
    "3\n",
    "6\n",
    "9\n",
    "And return 3.\n"
   ]
  },
  {
   "cell_type": "code",
   "execution_count": 4,
   "metadata": {},
   "outputs": [
    {
     "name": "stdout",
     "output_type": "stream",
     "text": [
      "3\n",
      "6\n",
      "9\n"
     ]
    },
    {
     "data": {
      "text/plain": [
       "3"
      ]
     },
     "execution_count": 4,
     "metadata": {},
     "output_type": "execute_result"
    }
   ],
   "source": [
    "def modified_div_by_3_below(integer):\n",
    "    iterations = 0\n",
    "    for integer in range(1, integer):\n",
    "        if integer % 3 == 0:\n",
    "            iterations = iterations + 1\n",
    "            print(integer)\n",
    "    return iterations\n",
    "modified_div_by_3_below(12)"
   ]
  },
  {
   "cell_type": "markdown",
   "metadata": {},
   "source": [
    "9. Modify the above function to make it general -- if the function takes in integers n and k, print each positive number less than n that is divisible by k, and return the total amount of positive numbers less than n that are divisible by k.\n",
    "The above examples would be the equivalent of calling this function with n=12, k=3.\n",
    "For example: with input: n=8, k=2, example output:\n",
    "2\n",
    "4\n",
    "6\n",
    "And return 3\n"
   ]
  },
  {
   "cell_type": "code",
   "execution_count": 7,
   "metadata": {},
   "outputs": [
    {
     "name": "stdout",
     "output_type": "stream",
     "text": [
      "2\n",
      "4\n",
      "6\n"
     ]
    },
    {
     "data": {
      "text/plain": [
       "3"
      ]
     },
     "execution_count": 7,
     "metadata": {},
     "output_type": "execute_result"
    }
   ],
   "source": [
    "def div_by_k_below_n(n,k):\n",
    "    iterations = 0\n",
    "    for integer in range(1, n):\n",
    "        if integer % k == 0:\n",
    "            iterations = iterations + 1\n",
    "            print(integer)\n",
    "    return iterations\n",
    "div_by_k_below_n(8, 2)"
   ]
  }
 ],
 "metadata": {
  "kernelspec": {
   "display_name": "Python 3.10.8 64-bit",
   "language": "python",
   "name": "python3"
  },
  "language_info": {
   "codemirror_mode": {
    "name": "ipython",
    "version": 3
   },
   "file_extension": ".py",
   "mimetype": "text/x-python",
   "name": "python",
   "nbconvert_exporter": "python",
   "pygments_lexer": "ipython3",
   "version": "3.10.8"
  },
  "orig_nbformat": 4,
  "vscode": {
   "interpreter": {
    "hash": "39b7f9ead60384a727657da2a0e5c16397da03ee60763edb7307205fe0983a98"
   }
  }
 },
 "nbformat": 4,
 "nbformat_minor": 2
}
